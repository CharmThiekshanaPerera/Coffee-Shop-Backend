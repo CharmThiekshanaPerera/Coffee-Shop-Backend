{
  "nbformat": 4,
  "nbformat_minor": 0,
  "metadata": {
    "colab": {
      "provenance": [],
      "mount_file_id": "1HcTIBGtl8sVsfBmGepgCq0ODBN6ymsNQ",
      "authorship_tag": "ABX9TyM/2N4+9P7Wjaie3pGGsu0H",
      "include_colab_link": true
    },
    "kernelspec": {
      "name": "python3",
      "display_name": "Python 3"
    },
    "language_info": {
      "name": "python"
    }
  },
  "cells": [
    {
      "cell_type": "markdown",
      "metadata": {
        "id": "view-in-github",
        "colab_type": "text"
      },
      "source": [
        "<a href=\"https://colab.research.google.com/github/CharmThiekshanaPerera/Coffee-Shop-Backend/blob/main/AI_for_Your_Coffee_Shop.ipynb\" target=\"_parent\"><img src=\"https://colab.research.google.com/assets/colab-badge.svg\" alt=\"Open In Colab\"/></a>"
      ]
    },
    {
      "cell_type": "code",
      "execution_count": 1,
      "metadata": {
        "id": "LIXjrCpwmtC7"
      },
      "outputs": [],
      "source": [
        "import pandas as pd\n",
        "import numpy as np\n",
        "import re\n",
        "import datetime\n",
        "import matplotlib.pyplot as plt\n",
        "import seaborn as sns\n",
        "from sklearn.model_selection import train_test_split\n",
        "from sklearn.ensemble import RandomForestRegressor\n",
        "from sklearn.metrics import mean_absolute_error, mean_squared_error\n",
        "import joblib\n",
        "import openai  # For NLP-based questions"
      ]
    },
    {
      "cell_type": "code",
      "source": [
        "# Step 1: Gather Data\n",
        "file_path = \"/content/drive/MyDrive/CoffeeShop/index_1.csv\"  # Replace with your actual file path\n",
        "data = pd.read_csv(file_path)\n",
        "print(\"Data Loaded Successfully!\\n\", data.head())"
      ],
      "metadata": {
        "colab": {
          "base_uri": "https://localhost:8080/"
        },
        "id": "0Nid6wZxnMXq",
        "outputId": "2fede5d0-3d42-4b60-9166-c268a7d95fdc"
      },
      "execution_count": 2,
      "outputs": [
        {
          "output_type": "stream",
          "name": "stdout",
          "text": [
            "Data Loaded Successfully!\n",
            "          date                 datetime cash_type                 card  money  \\\n",
            "0  2024-03-01  2024-03-01 10:15:50.520      card  ANON-0000-0000-0001   38.7   \n",
            "1  2024-03-01  2024-03-01 12:19:22.539      card  ANON-0000-0000-0002   38.7   \n",
            "2  2024-03-01  2024-03-01 12:20:18.089      card  ANON-0000-0000-0002   38.7   \n",
            "3  2024-03-01  2024-03-01 13:46:33.006      card  ANON-0000-0000-0003   28.9   \n",
            "4  2024-03-01  2024-03-01 13:48:14.626      card  ANON-0000-0000-0004   38.7   \n",
            "\n",
            "     coffee_name  \n",
            "0          Latte  \n",
            "1  Hot Chocolate  \n",
            "2  Hot Chocolate  \n",
            "3      Americano  \n",
            "4          Latte  \n"
          ]
        }
      ]
    },
    {
      "cell_type": "code",
      "source": [
        "# Step 2: Clean and Preprocess\n",
        "data.drop_duplicates(inplace=True)  # Remove duplicate entries\n",
        "data.dropna(inplace=True)  # Remove missing values\n",
        "data['datetime'] = pd.to_datetime(data['datetime'])  # Convert datetime"
      ],
      "metadata": {
        "id": "prOQejUtndy6"
      },
      "execution_count": 3,
      "outputs": []
    },
    {
      "cell_type": "code",
      "source": [
        "# Convert categorical data (coffee_name, cash_type) to numeric values\n",
        "data['coffee_name'] = data['coffee_name'].astype('category').cat.codes\n",
        "data['cash_type'] = data['cash_type'].astype('category').cat.codes\n",
        "data['hour'] = data['datetime'].dt.hour  # Extract hour for time-based analysis"
      ],
      "metadata": {
        "id": "ijPKpmCznrcy"
      },
      "execution_count": 4,
      "outputs": []
    },
    {
      "cell_type": "code",
      "source": [
        "# Step 3: Feature Extraction\n",
        "features = ['coffee_name', 'cash_type', 'hour']\n",
        "target = 'money'"
      ],
      "metadata": {
        "id": "JVXGyU3unus6"
      },
      "execution_count": 5,
      "outputs": []
    },
    {
      "cell_type": "code",
      "source": [
        "# Step 4: Split Data\n",
        "X = data[features]\n",
        "y = data[target]\n",
        "X_train, X_test, y_train, y_test = train_test_split(X, y, test_size=0.2, random_state=42)"
      ],
      "metadata": {
        "id": "f22jix4FnxO6"
      },
      "execution_count": 6,
      "outputs": []
    },
    {
      "cell_type": "code",
      "source": [
        "# Step 5: Choose an Algorithm (Random Forest)\n",
        "model = RandomForestRegressor(n_estimators=100, random_state=42)"
      ],
      "metadata": {
        "id": "qn_hh6Rzn1Vy"
      },
      "execution_count": 7,
      "outputs": []
    },
    {
      "cell_type": "code",
      "source": [
        "# Step 6: Train the Model\n",
        "model.fit(X_train, y_train)\n",
        "print(\"Model Training Complete!\")"
      ],
      "metadata": {
        "colab": {
          "base_uri": "https://localhost:8080/"
        },
        "id": "zN8wLuRWn2pL",
        "outputId": "a402b973-42fb-497e-cb87-77c6a8f71159"
      },
      "execution_count": 8,
      "outputs": [
        {
          "output_type": "stream",
          "name": "stdout",
          "text": [
            "Model Training Complete!\n"
          ]
        }
      ]
    },
    {
      "cell_type": "code",
      "source": [
        "# Step 7: Hyperparameter Tuning (Simple Example)\n",
        "mae = mean_absolute_error(y_test, model.predict(X_test))\n",
        "print(f\"Mean Absolute Error: {mae}\")"
      ],
      "metadata": {
        "colab": {
          "base_uri": "https://localhost:8080/"
        },
        "id": "xr7x1WrnoBED",
        "outputId": "0ed1cf71-a101-45f0-fb69-78a04f418d24"
      },
      "execution_count": 9,
      "outputs": [
        {
          "output_type": "stream",
          "name": "stdout",
          "text": [
            "Mean Absolute Error: 1.5643062271777313\n"
          ]
        }
      ]
    },
    {
      "cell_type": "code",
      "source": [
        "# Step 8: Validate Performance\n",
        "predictions = model.predict(X_test)\n",
        "rmse = np.sqrt(mean_squared_error(y_test, predictions))\n",
        "print(f\"Root Mean Squared Error: {rmse}\")"
      ],
      "metadata": {
        "colab": {
          "base_uri": "https://localhost:8080/"
        },
        "id": "cAhzMyIkoD9z",
        "outputId": "bfe89310-6edd-49ea-b222-90cf13dd8045"
      },
      "execution_count": 10,
      "outputs": [
        {
          "output_type": "stream",
          "name": "stdout",
          "text": [
            "Root Mean Squared Error: 1.916585306850911\n"
          ]
        }
      ]
    },
    {
      "cell_type": "code",
      "source": [
        "# Step 9: Test Accuracy\n",
        "accuracy = model.score(X_test, y_test)\n",
        "print(f\"Model Accuracy: {accuracy * 100:.2f}%\")"
      ],
      "metadata": {
        "colab": {
          "base_uri": "https://localhost:8080/"
        },
        "id": "silE82b9oJgi",
        "outputId": "6c30a7f7-7317-4d7f-987a-142d47d20728"
      },
      "execution_count": 11,
      "outputs": [
        {
          "output_type": "stream",
          "name": "stdout",
          "text": [
            "Model Accuracy: 84.94%\n"
          ]
        }
      ]
    },
    {
      "cell_type": "code",
      "source": [
        "# Step 10: Iterate and Refine (Save Model)\n",
        "joblib.dump(model, \"coffee_sales_model.pkl\")"
      ],
      "metadata": {
        "colab": {
          "base_uri": "https://localhost:8080/"
        },
        "id": "sEbnN4BooNaE",
        "outputId": "e3e1ffda-98aa-422a-e0c4-9d5e1784025b"
      },
      "execution_count": 12,
      "outputs": [
        {
          "output_type": "execute_result",
          "data": {
            "text/plain": [
              "['coffee_sales_model.pkl']"
            ]
          },
          "metadata": {},
          "execution_count": 12
        }
      ]
    },
    {
      "cell_type": "code",
      "source": [
        "# Step 11: Answer Questions using AI (NLP-based)\n",
        "def answer_question(question):\n",
        "    if \"most sold coffee\" in question.lower():\n",
        "        coffee_counts = data['coffee_name'].value_counts()\n",
        "        most_sold = coffee_counts.idxmax()\n",
        "        return f\"The most sold coffee is {most_sold}.\"\n",
        "    elif \"total revenue\" in question.lower():\n",
        "        total_revenue = data['money'].sum()\n",
        "        return f\"Total revenue is ${total_revenue:.2f}.\"\n",
        "    elif \"cash vs card\" in question.lower():\n",
        "        payment_counts = data['cash_type'].value_counts()\n",
        "        return f\"Payment Breakdown: {payment_counts.to_dict()}\"\n",
        "    else:\n",
        "        return \"Sorry, I don't understand the question.\""
      ],
      "metadata": {
        "id": "SFXGKBN2oSxy"
      },
      "execution_count": 13,
      "outputs": []
    },
    {
      "cell_type": "code",
      "source": [
        "# Example Usage\n",
        "question = \"What is the most sold coffee?\"\n",
        "print(answer_question(question))"
      ],
      "metadata": {
        "colab": {
          "base_uri": "https://localhost:8080/"
        },
        "id": "nfNXqxYuoULy",
        "outputId": "56edd4fa-cbbd-450e-c32d-4bb4c5ac7e7c"
      },
      "execution_count": 14,
      "outputs": [
        {
          "output_type": "stream",
          "name": "stdout",
          "text": [
            "The most sold coffee is 1.\n"
          ]
        }
      ]
    }
  ]
}